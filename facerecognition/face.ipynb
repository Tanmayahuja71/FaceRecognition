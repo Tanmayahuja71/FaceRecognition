{
 "cells": [
  {
   "cell_type": "code",
   "execution_count": 2,
   "metadata": {},
   "outputs": [],
   "source": [
    "import face_recognition as fr\n",
    "import os\n",
    "import cv2\n",
    "import face_recognition\n",
    "import numpy as np\n",
    "from time import sleep"
   ]
  },
  {
   "cell_type": "code",
   "execution_count": 5,
   "metadata": {},
   "outputs": [],
   "source": [
    "def get_encoded_faces():\n",
    "\n",
    "    encoded = {}\n",
    "\n",
    "    for dirpath, dnames, fnames in os.walk(\"./face_repository\"):\n",
    "        for f in fnames:\n",
    "            if f.endswith(\".jpg\") or f.endswith(\".png\"):\n",
    "                face = fr.load_image_file(\"face_repository/\" + f)\n",
    "                encoding = fr.face_encodings(face)[0]\n",
    "                encoded[f.split(\".\")[0]] = encoding\n",
    "\n",
    "    return encoded"
   ]
  },
  {
   "cell_type": "code",
   "execution_count": 6,
   "metadata": {},
   "outputs": [],
   "source": [
    "def unknown_image_encoded(img):\n",
    "\n",
    "    face = fr.load_image_file(\"face_repository/\" + img)\n",
    "    encoding = fr.face_encodings(face)[0]\n",
    "\n",
    "    return encoding\n"
   ]
  },
  {
   "cell_type": "code",
   "execution_count": 7,
   "metadata": {},
   "outputs": [],
   "source": [
    "def classify_face(im):\n",
    " \n",
    "    faces = get_encoded_faces()\n",
    "    faces_encoded = list(faces.values())\n",
    "    known_face_names = list(faces.keys())\n",
    "\n",
    "    img = cv2.imread(im, 1)\n",
    " \n",
    "    face_locations = face_recognition.face_locations(img)\n",
    "    unknown_face_encodings = face_recognition.face_encodings(img, face_locations)\n",
    "\n",
    "    face_names = []\n",
    "    for face_encoding in unknown_face_encodings:\n",
    "   \n",
    "        matches = face_recognition.compare_faces(faces_encoded, face_encoding)\n",
    "        name = \"Unknown\"\n",
    "\n",
    "        \n",
    "        face_distances = face_recognition.face_distance(faces_encoded, face_encoding)\n",
    "        best_match_index = np.argmin(face_distances)\n",
    "        if matches[best_match_index]:\n",
    "            name = known_face_names[best_match_index]\n",
    "\n",
    "        face_names.append(name)\n",
    "\n",
    "        for (top, right, bottom, left), name in zip(face_locations, face_names):\n",
    "            \n",
    "            cv2.rectangle(img, (left-20, top-10), (right+20, bottom+15), (300, 0, 0), 2)\n",
    "\n",
    "       \n",
    "            cv2.rectangle(img, (left-20, bottom -10), (right+20, bottom+15), (500, 0, 0), cv2.FILLED)\n",
    "            font = cv2.FONT_HERSHEY_DUPLEX\n",
    "            cv2.putText(img, name, (left -10, bottom + 10), font, 0.5, (300, 300, 300), 1)\n",
    "\n",
    "\n",
    "   \n",
    "    while True:\n",
    "\n",
    "        cv2.imshow('Whom are you looking for?', img)\n",
    "        if cv2.waitKey(1) & 0xFF == ord('q'):\n",
    "            return face_names \n"
   ]
  },
  {
   "cell_type": "code",
   "execution_count": 8,
   "metadata": {},
   "outputs": [
    {
     "ename": "KeyboardInterrupt",
     "evalue": "",
     "output_type": "error",
     "traceback": [
      "\u001b[1;31m---------------------------------------------------------------------------\u001b[0m",
      "\u001b[1;31mKeyboardInterrupt\u001b[0m                         Traceback (most recent call last)",
      "Cell \u001b[1;32mIn[8], line 1\u001b[0m\n\u001b[1;32m----> 1\u001b[0m \u001b[38;5;28mprint\u001b[39m(\u001b[43mclassify_face\u001b[49m\u001b[43m(\u001b[49m\u001b[38;5;124;43m\"\u001b[39;49m\u001b[38;5;124;43mtest1.jpg\u001b[39;49m\u001b[38;5;124;43m\"\u001b[39;49m\u001b[43m)\u001b[49m) \u001b[38;5;66;03m# You can either try to find people \"test2.jpg\" or \"test1.jpg\" in the string.\u001b[39;00m\n",
      "Cell \u001b[1;32mIn[7], line 40\u001b[0m, in \u001b[0;36mclassify_face\u001b[1;34m(im)\u001b[0m\n\u001b[0;32m     37\u001b[0m \u001b[38;5;28;01mwhile\u001b[39;00m \u001b[38;5;28;01mTrue\u001b[39;00m:\n\u001b[0;32m     39\u001b[0m     cv2\u001b[38;5;241m.\u001b[39mimshow(\u001b[38;5;124m'\u001b[39m\u001b[38;5;124mWhom are you looking for?\u001b[39m\u001b[38;5;124m'\u001b[39m, img)\n\u001b[1;32m---> 40\u001b[0m     \u001b[38;5;28;01mif\u001b[39;00m \u001b[43mcv2\u001b[49m\u001b[38;5;241;43m.\u001b[39;49m\u001b[43mwaitKey\u001b[49m\u001b[43m(\u001b[49m\u001b[38;5;241;43m1\u001b[39;49m\u001b[43m)\u001b[49m \u001b[38;5;241m&\u001b[39m \u001b[38;5;241m0xFF\u001b[39m \u001b[38;5;241m==\u001b[39m \u001b[38;5;28mord\u001b[39m(\u001b[38;5;124m'\u001b[39m\u001b[38;5;124mq\u001b[39m\u001b[38;5;124m'\u001b[39m):\n\u001b[0;32m     41\u001b[0m         \u001b[38;5;28;01mreturn\u001b[39;00m face_names\n",
      "\u001b[1;31mKeyboardInterrupt\u001b[0m: "
     ]
    }
   ],
   "source": [
    "print(classify_face(\"test1.jpg\")) # You can either try to find people \"test2.jpg\" or \"test1.jpg\" in the string."
   ]
  }
 ],
 "metadata": {
  "kernelspec": {
   "display_name": "myenv",
   "language": "python",
   "name": "python3"
  },
  "language_info": {
   "codemirror_mode": {
    "name": "ipython",
    "version": 3
   },
   "file_extension": ".py",
   "mimetype": "text/x-python",
   "name": "python",
   "nbconvert_exporter": "python",
   "pygments_lexer": "ipython3",
   "version": "3.8.19"
  }
 },
 "nbformat": 4,
 "nbformat_minor": 2
}
